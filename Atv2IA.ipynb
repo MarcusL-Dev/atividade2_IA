{
  "nbformat": 4,
  "nbformat_minor": 0,
  "metadata": {
    "colab": {
      "provenance": [],
      "mount_file_id": "106d0zDdpC3q-QXbd1TxXKVdoSUuJOS81",
      "authorship_tag": "ABX9TyO+5tiJ1BzBzWQ+5X15BEYe",
      "include_colab_link": true
    },
    "kernelspec": {
      "name": "python3",
      "display_name": "Python 3"
    },
    "language_info": {
      "name": "python"
    }
  },
  "cells": [
    {
      "cell_type": "markdown",
      "metadata": {
        "id": "view-in-github",
        "colab_type": "text"
      },
      "source": [
        "<a href=\"https://colab.research.google.com/github/MarcusL-Dev/atividade2_IA/blob/main/Atv2IA.ipynb\" target=\"_parent\"><img src=\"https://colab.research.google.com/assets/colab-badge.svg\" alt=\"Open In Colab\"/></a>"
      ]
    },
    {
      "cell_type": "code",
      "source": [
        "import csv\n",
        "import random\n",
        "import numpy as np"
      ],
      "metadata": {
        "id": "MWfgzrDK4I8F"
      },
      "execution_count": null,
      "outputs": []
    },
    {
      "cell_type": "code",
      "source": [
        "#carrega o dataset\n",
        "dataset = []\n",
        "with open('drive/MyDrive/irisDataset/Iris.csv', 'r') as arq:\n",
        "    iris = csv.reader(arq)\n",
        "    for linha in iris:\n",
        "      dataset.append(linha)\n",
        "dataset"
      ],
      "metadata": {
        "id": "ug4y4reBgEey"
      },
      "execution_count": null,
      "outputs": []
    },
    {
      "cell_type": "code",
      "source": [
        "#remove o cabelho\n",
        "dataset = dataset[1:]\n",
        "dataset"
      ],
      "metadata": {
        "id": "NGyU2c7cjdHl"
      },
      "execution_count": null,
      "outputs": []
    },
    {
      "cell_type": "code",
      "source": [
        "#remove a coluna id\n",
        "dados = []\n",
        "for dado in dataset:\n",
        "  dados.append(dado[1:])\n",
        "dados"
      ],
      "metadata": {
        "id": "-Al8Lui3lmIf"
      },
      "execution_count": null,
      "outputs": []
    },
    {
      "cell_type": "code",
      "source": [
        "#divide entre testes treinos\n",
        "testes = []\n",
        "numDados = len(dados)\n",
        "numSaidas = round(numDados * 0.1)\n",
        "\n",
        "while len(testes) != numSaidas:\n",
        "  testes.append(dados.pop(dados.index(random.choice(dados))))\n",
        "\n",
        "treinos = dados\n",
        "testes"
      ],
      "metadata": {
        "id": "S_eaIx6QimAo"
      },
      "execution_count": null,
      "outputs": []
    },
    {
      "cell_type": "code",
      "source": [
        "len(treinos)"
      ],
      "metadata": {
        "colab": {
          "base_uri": "https://localhost:8080/"
        },
        "id": "v9nsqyqap5mS",
        "outputId": "06f74856-1dce-47fe-db8f-170a70b26729"
      },
      "execution_count": null,
      "outputs": [
        {
          "output_type": "execute_result",
          "data": {
            "text/plain": [
              "135"
            ]
          },
          "metadata": {},
          "execution_count": 6
        }
      ]
    },
    {
      "cell_type": "code",
      "source": [
        "#separa as entradas de treino\n",
        "entradasTreino = []\n",
        "for treino in treinos:\n",
        "  entradasTreino.append(treino[:-1])"
      ],
      "metadata": {
        "id": "yDPfqribmK6C"
      },
      "execution_count": null,
      "outputs": []
    },
    {
      "cell_type": "code",
      "source": [
        "entradasTreino"
      ],
      "metadata": {
        "id": "DUiUQRLArHCA"
      },
      "execution_count": null,
      "outputs": []
    },
    {
      "cell_type": "code",
      "source": [
        "#separa as saidas de treino\n",
        "saidasTreino = []\n",
        "for treino in treinos:\n",
        "  saidasTreino.append(treino[-1:])"
      ],
      "metadata": {
        "id": "l9dHI1h6rLzo"
      },
      "execution_count": null,
      "outputs": []
    },
    {
      "cell_type": "code",
      "source": [
        "saidasTreino"
      ],
      "metadata": {
        "id": "y1F0Fbt8re16"
      },
      "execution_count": null,
      "outputs": []
    },
    {
      "cell_type": "code",
      "source": [
        "#separa as entradas de teste\n",
        "entradasTeste = []\n",
        "for teste in testes:\n",
        "  entradasTeste.append(teste[:-1])"
      ],
      "metadata": {
        "id": "qHJFsUq4kC5Z"
      },
      "execution_count": null,
      "outputs": []
    },
    {
      "cell_type": "code",
      "source": [
        "entradasTeste"
      ],
      "metadata": {
        "id": "v73nsvHQsSti",
        "colab": {
          "base_uri": "https://localhost:8080/"
        },
        "outputId": "63eee9db-8c45-49a8-aff8-e81196118156"
      },
      "execution_count": null,
      "outputs": [
        {
          "output_type": "execute_result",
          "data": {
            "text/plain": [
              "[['5.4', '3.9', '1.3', '0.4'],\n",
              " ['5.7', '4.4', '1.5', '0.4'],\n",
              " ['4.9', '3.0', '1.4', '0.2'],\n",
              " ['4.8', '3.0', '1.4', '0.1'],\n",
              " ['5.5', '4.2', '1.4', '0.2'],\n",
              " ['4.4', '3.0', '1.3', '0.2'],\n",
              " ['6.9', '3.2', '5.7', '2.3'],\n",
              " ['6.8', '3.0', '5.5', '2.1'],\n",
              " ['7.2', '3.0', '5.8', '1.6'],\n",
              " ['5.7', '2.5', '5.0', '2.0'],\n",
              " ['5.1', '3.3', '1.7', '0.5'],\n",
              " ['5.1', '3.8', '1.9', '0.4'],\n",
              " ['5.5', '2.5', '4.0', '1.3'],\n",
              " ['7.9', '3.8', '6.4', '2.0'],\n",
              " ['5.6', '2.5', '3.9', '1.1']]"
            ]
          },
          "metadata": {},
          "execution_count": 12
        }
      ]
    },
    {
      "cell_type": "code",
      "source": [
        "#separa as saidas de teste\n",
        "saidasTeste = []\n",
        "for teste in testes:\n",
        "  saidasTeste.append(teste[-1:])"
      ],
      "metadata": {
        "id": "ifyztoxbkqm3"
      },
      "execution_count": null,
      "outputs": []
    },
    {
      "cell_type": "code",
      "source": [
        "saidasTeste"
      ],
      "metadata": {
        "id": "cSakrS7HlCE4"
      },
      "execution_count": null,
      "outputs": []
    },
    {
      "cell_type": "code",
      "source": [
        "#atualiza as classses de treino para numericos\n",
        "saidasTreinoClasses = []\n",
        "for saida in saidasTreino:\n",
        "  if saida[0] == 'Iris-virginica':\n",
        "    saidasTreinoClasses.append(3)\n",
        "  elif saida[0] == 'Iris-versicolor':\n",
        "    saidasTreinoClasses.append(2)\n",
        "  else:\n",
        "    saidasTreinoClasses.append(1)"
      ],
      "metadata": {
        "id": "y_GeGpedlhuq"
      },
      "execution_count": null,
      "outputs": []
    },
    {
      "cell_type": "code",
      "source": [
        "saidasTreinoClasses"
      ],
      "metadata": {
        "id": "7juFB_m_mXCb"
      },
      "execution_count": null,
      "outputs": []
    },
    {
      "cell_type": "code",
      "source": [
        "#atualiza as classses de teste para numericos\n",
        "saidasTesteClasses = []\n",
        "for saida in saidasTeste:\n",
        "  if saida[0] == 'Iris-virginica':\n",
        "    saidasTesteClasses.append(3)\n",
        "  elif saida[0] == 'Iris-versicolor':\n",
        "    saidasTesteClasses.append(2)\n",
        "  else:\n",
        "    saidasTesteClasses.append(1)"
      ],
      "metadata": {
        "id": "WxG5gp8rtr3L"
      },
      "execution_count": null,
      "outputs": []
    },
    {
      "cell_type": "code",
      "source": [
        "saidasTesteClasses"
      ],
      "metadata": {
        "colab": {
          "base_uri": "https://localhost:8080/"
        },
        "id": "X0ZMNK2euS31",
        "outputId": "f8ab6d3b-2476-4d8d-9ea6-7ee34b036271"
      },
      "execution_count": null,
      "outputs": [
        {
          "output_type": "execute_result",
          "data": {
            "text/plain": [
              "[1, 1, 2, 3, 1, 3, 3, 3, 1, 2, 2, 1, 3, 2, 1]"
            ]
          },
          "metadata": {},
          "execution_count": 18
        }
      ]
    },
    {
      "cell_type": "code",
      "source": [
        "#aplica formato one hot nas classses de treino\n",
        "saidasTreinoBinarias = []\n",
        "for saidaTreinoClasse in saidasTreinoClasses:\n",
        "  if saidaTreinoClasse == 1:\n",
        "    saidasTreinoBinarias.append([1, 0, 0])\n",
        "  elif saidaTreinoClasse == 2:\n",
        "    saidasTreinoBinarias.append([0, 1, 0])\n",
        "  else:\n",
        "    saidasTreinoBinarias.append([0, 0, 1])\n",
        "\n",
        "saidasTreinoBinarias"
      ],
      "metadata": {
        "id": "O6U5fzIOezvB"
      },
      "execution_count": null,
      "outputs": []
    },
    {
      "cell_type": "code",
      "source": [
        "#aplica formato one hot nas classses de teste\n",
        "saidasTesteBinarias = []\n",
        "for saidaTesteClasse in saidasTesteClasses:\n",
        "  if saidaTesteClasse == 1:\n",
        "    saidasTesteBinarias.append([1, 0, 0])\n",
        "  elif saidaTesteClasse == 2:\n",
        "    saidasTesteBinarias.append([0, 1, 0])\n",
        "  else:\n",
        "    saidasTesteBinarias.append([0, 0, 1])\n",
        "saidasTesteBinarias"
      ],
      "metadata": {
        "id": "td80GiD7zHt_"
      },
      "execution_count": null,
      "outputs": []
    },
    {
      "cell_type": "code",
      "source": [
        "entradasTreino"
      ],
      "metadata": {
        "id": "rI5wA8w4J5fQ"
      },
      "execution_count": null,
      "outputs": []
    },
    {
      "cell_type": "code",
      "source": [
        "#converte as entradas de treino para float\n",
        "entradasTreinoFloat = []\n",
        "for entradaTreino in entradasTreino:\n",
        "  novaEntradaTreino = []\n",
        "  for valor in entradaTreino:\n",
        "    novaEntradaTreino.append(float(valor))\n",
        "  entradasTreinoFloat.append(novaEntradaTreino)\n",
        "entradasTreino = entradasTreinoFloat"
      ],
      "metadata": {
        "id": "8ASPS7bTIwRa"
      },
      "execution_count": null,
      "outputs": []
    },
    {
      "cell_type": "code",
      "source": [
        "#converte as entradas de teste para float\n",
        "entradasTesteFloat = []\n",
        "for entradaTeste in entradasTeste:\n",
        "  novaEntradaTeste = []\n",
        "  for valor in entradaTeste:\n",
        "    novaEntradaTeste.append(float(valor))\n",
        "  entradasTesteFloat.append(novaEntradaTeste)\n",
        "entradasTeste = entradasTesteFloat\n",
        "entradasTeste"
      ],
      "metadata": {
        "id": "QvkTnUZgK2dD"
      },
      "execution_count": null,
      "outputs": []
    },
    {
      "cell_type": "code",
      "source": [
        "#definindo o numero de neuronios na entradas, de neuronios na oculta e de neuronios na saida\n",
        "numEntradas = 4\n",
        "numOculta = 5\n",
        "numSaidas = 3"
      ],
      "metadata": {
        "id": "gM3nojXw1B6h"
      },
      "execution_count": null,
      "outputs": []
    },
    {
      "cell_type": "code",
      "source": [
        "#gerando pesos das conexoes da camada de entrda para a oculta\n",
        "pesosOculta = []\n",
        "for i in range(numEntradas):\n",
        "  conjuntoPesos = []\n",
        "  for j in range(numOculta):\n",
        "    oposto = random.randint(0, 1)\n",
        "    if oposto == 0:\n",
        "      conjuntoPesos.append(round(random.random(), 2))\n",
        "    else:\n",
        "      conjuntoPesos.append(-1 * round(random.random(), 2))\n",
        "  pesosOculta.append(conjuntoPesos)\n",
        "pesosOculta"
      ],
      "metadata": {
        "colab": {
          "base_uri": "https://localhost:8080/"
        },
        "id": "iHgOJ6x71RuQ",
        "outputId": "c84b66c9-6263-42bf-f131-72443492d348"
      },
      "execution_count": null,
      "outputs": [
        {
          "output_type": "execute_result",
          "data": {
            "text/plain": [
              "[[-0.59, 0.95, -0.76, 0.95, -0.71],\n",
              " [0.4, 0.72, 0.43, 0.85, -0.93],\n",
              " [-0.52, 0.09, 0.52, -0.47, 0.17],\n",
              " [-0.51, -0.05, 0.05, -0.31, -0.54]]"
            ]
          },
          "metadata": {},
          "execution_count": 89
        }
      ]
    },
    {
      "cell_type": "code",
      "source": [
        "#gerando pesos das conexoes da camada oculta para a saida\n",
        "pesosSaida = []\n",
        "for i in range(numOculta):\n",
        "  conjuntoPesos = []\n",
        "  for j in range(numSaidas):\n",
        "    oposto = random.randint(0, 1)\n",
        "    if oposto == 0:\n",
        "      conjuntoPesos.append(round(random.random(), 2))\n",
        "    else:\n",
        "      conjuntoPesos.append(-1 * round(random.random(), 2))\n",
        "  pesosSaida.append(conjuntoPesos)\n",
        "pesosSaida"
      ],
      "metadata": {
        "colab": {
          "base_uri": "https://localhost:8080/"
        },
        "id": "hTxIg5tM6Kys",
        "outputId": "881d34ca-58b2-43cf-bf12-d9ca4066f1ae"
      },
      "execution_count": null,
      "outputs": [
        {
          "output_type": "execute_result",
          "data": {
            "text/plain": [
              "[[-0.13, 0.88, 0.29],\n",
              " [-0.71, 0.48, 0.66],\n",
              " [-0.65, -0.87, 0.01],\n",
              " [-0.33, -0.49, -0.9],\n",
              " [-0.66, -0.38, 0.13]]"
            ]
          },
          "metadata": {},
          "execution_count": 90
        }
      ]
    },
    {
      "cell_type": "code",
      "source": [
        "#função sigmoid\n",
        "def sigmoid(x):\n",
        "    return 1 / (1 + np.exp(-x))"
      ],
      "metadata": {
        "id": "5UpTCNnnNSWw"
      },
      "execution_count": null,
      "outputs": []
    },
    {
      "cell_type": "code",
      "source": [
        "#definindo leaningRate e quantidade de treinamentos\n",
        "lh = 0.1\n",
        "numTreinos = 1000"
      ],
      "metadata": {
        "id": "8Nm7UOnX7YvL"
      },
      "execution_count": null,
      "outputs": []
    },
    {
      "cell_type": "code",
      "source": [
        "#treinos\n",
        "for treino in range(numTreinos):\n",
        "  #aplicando sigmoid para tornar as saidas das camadas valores probabilisticos entre 0 e 1\n",
        "  valoresOculta = sigmoid(np.dot(entradasTreino, pesosOculta))\n",
        "  valoresSaida = sigmoid(np.dot(valoresOculta, pesosSaida))\n",
        "\n",
        "  #backpropagation\n",
        "  deltaSaida = (saidasTreinoBinarias - valoresSaida) * valoresSaida * (1 - valoresSaida)\n",
        "  pesosSaida += lh * np.dot(valoresOculta.T, deltaSaida)\n",
        "\n",
        "  deltaOculta = deltaSaida.dot(pesosSaida.T) * valoresOculta * (1 - valoresOculta)\n",
        "  pesosOculta += lh * np.dot(entradasTreino.T, deltaOculta)"
      ],
      "metadata": {
        "id": "Rf_8VVyPMjxc"
      },
      "execution_count": null,
      "outputs": []
    },
    {
      "cell_type": "code",
      "source": [
        "indiceDadoTeste = 11"
      ],
      "metadata": {
        "id": "mLt3CK1fjM0y"
      },
      "execution_count": null,
      "outputs": []
    },
    {
      "cell_type": "code",
      "source": [
        "entradaTeste = entradasTeste[indiceDadoTeste]\n",
        "valoresOcultaTeste = sigmoid(np.dot(entradaTeste, pesosOculta))\n",
        "valoresSaidaTeste = sigmoid(np.dot(valoresOcultaTeste, pesosSaida))"
      ],
      "metadata": {
        "id": "66mK4RMbfGoA"
      },
      "execution_count": null,
      "outputs": []
    },
    {
      "cell_type": "code",
      "source": [
        "saidaTeste = saidasTeste[indiceDadoTeste]\n",
        "saidaTesteBinaria = saidasTesteBinarias[indiceDadoTeste]\n",
        "print(saidasTeste)\n",
        "print(\"saida da rede neural:\", valoresSaidaTeste)\n",
        "print(\"saida do gabarito:\", saidaTesteBinaria)\n",
        "print(\"saida do gabarito:\", saidaTeste)"
      ],
      "metadata": {
        "colab": {
          "base_uri": "https://localhost:8080/"
        },
        "id": "o4q4wwr7iI1h",
        "outputId": "57883f84-faac-4ea5-c87c-6537331064d4"
      },
      "execution_count": null,
      "outputs": [
        {
          "output_type": "stream",
          "name": "stdout",
          "text": [
            "[['Iris-setosa'], ['Iris-setosa'], ['Iris-setosa'], ['Iris-setosa'], ['Iris-setosa'], ['Iris-setosa'], ['Iris-virginica'], ['Iris-virginica'], ['Iris-virginica'], ['Iris-virginica'], ['Iris-setosa'], ['Iris-setosa'], ['Iris-versicolor'], ['Iris-virginica'], ['Iris-versicolor']]\n",
            "saida da rede neural: [0.97620446 0.02263898 0.0119917 ]\n",
            "saida do gabarito: [1, 0, 0]\n",
            "saida do gabarito: ['Iris-setosa']\n"
          ]
        }
      ]
    }
  ]
}